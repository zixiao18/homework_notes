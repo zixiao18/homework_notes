{
 "cells": [
  {
   "cell_type": "code",
   "execution_count": 1,
   "id": "e5c88a1e-c039-43b3-ada0-0eb9a3568c08",
   "metadata": {},
   "outputs": [],
   "source": [
    "import numpy as np"
   ]
  },
  {
   "cell_type": "code",
   "execution_count": 72,
   "id": "1247af01-d8e6-43c0-9e8c-d5eefa59265d",
   "metadata": {},
   "outputs": [],
   "source": [
    "def pinv(A):\n",
    "    m,n = A.shape\n",
    "    U,d,VT = np.linalg.svd(A)\n",
    "    Dp = np.zeros((n,m))\n",
    "    np.fill_diagonal(Dp, 1/d)\n",
    "    A1 = VT.T @ Dp @ U.T\n",
    "    A2 = np.linalg.pinv(A) \n",
    "    print(\"Below is the p-inv that we implemented\")\n",
    "    print(A1)\n",
    "    print()\n",
    "    print(\"Below is the p-inv that python implemented as a reference.\")\n",
    "    print(A2)"
   ]
  },
  {
   "cell_type": "code",
   "execution_count": 73,
   "id": "732938bf-10e8-4e3f-8b52-d86d27e0509c",
   "metadata": {},
   "outputs": [
    {
     "name": "stdout",
     "output_type": "stream",
     "text": [
      "Below is the p-inv that we implemented\n",
      "[[ 1.85535278  1.87971205 -2.48421247  0.11629795]\n",
      " [ 0.64924668 -1.80836698 -0.25265679  1.92882814]\n",
      " [-1.56367236  0.89214727  2.36921043 -1.73347873]]\n",
      "\n",
      "Below is the p-inv that python implemented as a reference.\n",
      "[[ 1.85535278  1.87971205 -2.48421247  0.11629795]\n",
      " [ 0.64924668 -1.80836698 -0.25265679  1.92882814]\n",
      " [-1.56367236  0.89214727  2.36921043 -1.73347873]]\n"
     ]
    }
   ],
   "source": [
    "np.random.seed(0)\n",
    "X=np.random.random((4,3))\n",
    "pinv(X)"
   ]
  }
 ],
 "metadata": {
  "kernelspec": {
   "display_name": "Python 3 (ipykernel)",
   "language": "python",
   "name": "python3"
  },
  "language_info": {
   "codemirror_mode": {
    "name": "ipython",
    "version": 3
   },
   "file_extension": ".py",
   "mimetype": "text/x-python",
   "name": "python",
   "nbconvert_exporter": "python",
   "pygments_lexer": "ipython3",
   "version": "3.9.12"
  }
 },
 "nbformat": 4,
 "nbformat_minor": 5
}
